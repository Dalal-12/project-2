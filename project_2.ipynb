{
 "cells": [
  {
   "cell_type": "code",
   "execution_count": 10,
   "id": "a44676f9",
   "metadata": {},
   "outputs": [],
   "source": [
    "import numpy as np\n",
    "import pandas as pd\n",
    "import matplotlib.pyplot as plt\n",
    "import seaborn as sns"
   ]
  },
  {
   "cell_type": "code",
   "execution_count": 15,
   "id": "f2a656f1",
   "metadata": {},
   "outputs": [
    {
     "data": {
      "text/html": [
       "<div>\n",
       "<style scoped>\n",
       "    .dataframe tbody tr th:only-of-type {\n",
       "        vertical-align: middle;\n",
       "    }\n",
       "\n",
       "    .dataframe tbody tr th {\n",
       "        vertical-align: top;\n",
       "    }\n",
       "\n",
       "    .dataframe thead th {\n",
       "        text-align: right;\n",
       "    }\n",
       "</style>\n",
       "<table border=\"1\" class=\"dataframe\">\n",
       "  <thead>\n",
       "    <tr style=\"text-align: right;\">\n",
       "      <th></th>\n",
       "      <th>Unnamed: 0</th>\n",
       "      <th>city</th>\n",
       "      <th>date</th>\n",
       "      <th>time</th>\n",
       "      <th>year</th>\n",
       "      <th>month</th>\n",
       "      <th>day</th>\n",
       "      <th>hour</th>\n",
       "      <th>minute</th>\n",
       "      <th>weather</th>\n",
       "      <th>temp</th>\n",
       "      <th>wind</th>\n",
       "      <th>humidity</th>\n",
       "      <th>barometer</th>\n",
       "      <th>visibility</th>\n",
       "    </tr>\n",
       "  </thead>\n",
       "  <tbody>\n",
       "    <tr>\n",
       "      <th>0</th>\n",
       "      <td>0</td>\n",
       "      <td>Qassim</td>\n",
       "      <td>1 January 2017</td>\n",
       "      <td>00:00</td>\n",
       "      <td>2017</td>\n",
       "      <td>1</td>\n",
       "      <td>1</td>\n",
       "      <td>24</td>\n",
       "      <td>0</td>\n",
       "      <td>Clear</td>\n",
       "      <td>17</td>\n",
       "      <td>11</td>\n",
       "      <td>64%</td>\n",
       "      <td>1018.0</td>\n",
       "      <td>16</td>\n",
       "    </tr>\n",
       "    <tr>\n",
       "      <th>1</th>\n",
       "      <td>1</td>\n",
       "      <td>Qassim</td>\n",
       "      <td>1 January 2017</td>\n",
       "      <td>01:00</td>\n",
       "      <td>2017</td>\n",
       "      <td>1</td>\n",
       "      <td>1</td>\n",
       "      <td>1</td>\n",
       "      <td>0</td>\n",
       "      <td>Clear</td>\n",
       "      <td>17</td>\n",
       "      <td>6</td>\n",
       "      <td>64%</td>\n",
       "      <td>1018.0</td>\n",
       "      <td>16</td>\n",
       "    </tr>\n",
       "    <tr>\n",
       "      <th>2</th>\n",
       "      <td>2</td>\n",
       "      <td>Qassim</td>\n",
       "      <td>1 January 2017</td>\n",
       "      <td>03:00</td>\n",
       "      <td>2017</td>\n",
       "      <td>1</td>\n",
       "      <td>1</td>\n",
       "      <td>3</td>\n",
       "      <td>0</td>\n",
       "      <td>Clear</td>\n",
       "      <td>15</td>\n",
       "      <td>11</td>\n",
       "      <td>72%</td>\n",
       "      <td>1019.0</td>\n",
       "      <td>16</td>\n",
       "    </tr>\n",
       "    <tr>\n",
       "      <th>3</th>\n",
       "      <td>3</td>\n",
       "      <td>Qassim</td>\n",
       "      <td>1 January 2017</td>\n",
       "      <td>04:00</td>\n",
       "      <td>2017</td>\n",
       "      <td>1</td>\n",
       "      <td>1</td>\n",
       "      <td>4</td>\n",
       "      <td>0</td>\n",
       "      <td>Clear</td>\n",
       "      <td>15</td>\n",
       "      <td>11</td>\n",
       "      <td>72%</td>\n",
       "      <td>1019.0</td>\n",
       "      <td>16</td>\n",
       "    </tr>\n",
       "    <tr>\n",
       "      <th>4</th>\n",
       "      <td>4</td>\n",
       "      <td>Qassim</td>\n",
       "      <td>1 January 2017</td>\n",
       "      <td>05:00</td>\n",
       "      <td>2017</td>\n",
       "      <td>1</td>\n",
       "      <td>1</td>\n",
       "      <td>5</td>\n",
       "      <td>0</td>\n",
       "      <td>Clear</td>\n",
       "      <td>15</td>\n",
       "      <td>9</td>\n",
       "      <td>72%</td>\n",
       "      <td>1019.0</td>\n",
       "      <td>16</td>\n",
       "    </tr>\n",
       "    <tr>\n",
       "      <th>...</th>\n",
       "      <td>...</td>\n",
       "      <td>...</td>\n",
       "      <td>...</td>\n",
       "      <td>...</td>\n",
       "      <td>...</td>\n",
       "      <td>...</td>\n",
       "      <td>...</td>\n",
       "      <td>...</td>\n",
       "      <td>...</td>\n",
       "      <td>...</td>\n",
       "      <td>...</td>\n",
       "      <td>...</td>\n",
       "      <td>...</td>\n",
       "      <td>...</td>\n",
       "      <td>...</td>\n",
       "    </tr>\n",
       "    <tr>\n",
       "      <th>249018</th>\n",
       "      <td>2848</td>\n",
       "      <td>Jawf</td>\n",
       "      <td>30 April 2019</td>\n",
       "      <td>19:00</td>\n",
       "      <td>2019</td>\n",
       "      <td>4</td>\n",
       "      <td>30</td>\n",
       "      <td>19</td>\n",
       "      <td>0</td>\n",
       "      <td>Passing clouds</td>\n",
       "      <td>32</td>\n",
       "      <td>19</td>\n",
       "      <td>14%</td>\n",
       "      <td>1014.0</td>\n",
       "      <td>-1</td>\n",
       "    </tr>\n",
       "    <tr>\n",
       "      <th>249019</th>\n",
       "      <td>2849</td>\n",
       "      <td>Jawf</td>\n",
       "      <td>30 April 2019</td>\n",
       "      <td>20:00</td>\n",
       "      <td>2019</td>\n",
       "      <td>4</td>\n",
       "      <td>30</td>\n",
       "      <td>20</td>\n",
       "      <td>0</td>\n",
       "      <td>Passing clouds</td>\n",
       "      <td>29</td>\n",
       "      <td>9</td>\n",
       "      <td>22%</td>\n",
       "      <td>1015.0</td>\n",
       "      <td>-1</td>\n",
       "    </tr>\n",
       "    <tr>\n",
       "      <th>249020</th>\n",
       "      <td>2850</td>\n",
       "      <td>Jawf</td>\n",
       "      <td>30 April 2019</td>\n",
       "      <td>21:00</td>\n",
       "      <td>2019</td>\n",
       "      <td>4</td>\n",
       "      <td>30</td>\n",
       "      <td>21</td>\n",
       "      <td>0</td>\n",
       "      <td>Passing clouds</td>\n",
       "      <td>27</td>\n",
       "      <td>7</td>\n",
       "      <td>24%</td>\n",
       "      <td>1016.0</td>\n",
       "      <td>-1</td>\n",
       "    </tr>\n",
       "    <tr>\n",
       "      <th>249021</th>\n",
       "      <td>2851</td>\n",
       "      <td>Jawf</td>\n",
       "      <td>30 April 2019</td>\n",
       "      <td>22:00</td>\n",
       "      <td>2019</td>\n",
       "      <td>4</td>\n",
       "      <td>30</td>\n",
       "      <td>22</td>\n",
       "      <td>0</td>\n",
       "      <td>Clear</td>\n",
       "      <td>26</td>\n",
       "      <td>0</td>\n",
       "      <td>26%</td>\n",
       "      <td>1017.0</td>\n",
       "      <td>16</td>\n",
       "    </tr>\n",
       "    <tr>\n",
       "      <th>249022</th>\n",
       "      <td>2852</td>\n",
       "      <td>Jawf</td>\n",
       "      <td>30 April 2019</td>\n",
       "      <td>23:00</td>\n",
       "      <td>2019</td>\n",
       "      <td>4</td>\n",
       "      <td>30</td>\n",
       "      <td>23</td>\n",
       "      <td>0</td>\n",
       "      <td>Clear</td>\n",
       "      <td>24</td>\n",
       "      <td>7</td>\n",
       "      <td>29%</td>\n",
       "      <td>1017.0</td>\n",
       "      <td>16</td>\n",
       "    </tr>\n",
       "  </tbody>\n",
       "</table>\n",
       "<p>249023 rows × 15 columns</p>\n",
       "</div>"
      ],
      "text/plain": [
       "        Unnamed: 0    city            date   time  year  month  day  hour  \\\n",
       "0                0  Qassim  1 January 2017  00:00  2017      1    1    24   \n",
       "1                1  Qassim  1 January 2017  01:00  2017      1    1     1   \n",
       "2                2  Qassim  1 January 2017  03:00  2017      1    1     3   \n",
       "3                3  Qassim  1 January 2017  04:00  2017      1    1     4   \n",
       "4                4  Qassim  1 January 2017  05:00  2017      1    1     5   \n",
       "...            ...     ...             ...    ...   ...    ...  ...   ...   \n",
       "249018        2848    Jawf   30 April 2019  19:00  2019      4   30    19   \n",
       "249019        2849    Jawf   30 April 2019  20:00  2019      4   30    20   \n",
       "249020        2850    Jawf   30 April 2019  21:00  2019      4   30    21   \n",
       "249021        2851    Jawf   30 April 2019  22:00  2019      4   30    22   \n",
       "249022        2852    Jawf   30 April 2019  23:00  2019      4   30    23   \n",
       "\n",
       "        minute          weather  temp  wind humidity  barometer  visibility  \n",
       "0            0           Clear     17    11      64%     1018.0          16  \n",
       "1            0           Clear     17     6      64%     1018.0          16  \n",
       "2            0           Clear     15    11      72%     1019.0          16  \n",
       "3            0           Clear     15    11      72%     1019.0          16  \n",
       "4            0           Clear     15     9      72%     1019.0          16  \n",
       "...        ...              ...   ...   ...      ...        ...         ...  \n",
       "249018       0  Passing clouds     32    19      14%     1014.0          -1  \n",
       "249019       0  Passing clouds     29     9      22%     1015.0          -1  \n",
       "249020       0  Passing clouds     27     7      24%     1016.0          -1  \n",
       "249021       0           Clear     26     0      26%     1017.0          16  \n",
       "249022       0           Clear     24     7      29%     1017.0          16  \n",
       "\n",
       "[249023 rows x 15 columns]"
      ]
     },
     "execution_count": 15,
     "metadata": {},
     "output_type": "execute_result"
    }
   ],
   "source": [
    "df = pd.read_csv('weather.csv')\n",
    "df"
   ]
  },
  {
   "cell_type": "code",
   "execution_count": 16,
   "id": "6a97090f",
   "metadata": {},
   "outputs": [
    {
     "name": "stdout",
     "output_type": "stream",
     "text": [
      "<class 'pandas.core.frame.DataFrame'>\n",
      "RangeIndex: 249023 entries, 0 to 249022\n",
      "Data columns (total 15 columns):\n",
      " #   Column      Non-Null Count   Dtype  \n",
      "---  ------      --------------   -----  \n",
      " 0   Unnamed: 0  249023 non-null  int64  \n",
      " 1   city        249023 non-null  object \n",
      " 2   date        249023 non-null  object \n",
      " 3   time        249023 non-null  object \n",
      " 4   year        249023 non-null  int64  \n",
      " 5   month       249023 non-null  int64  \n",
      " 6   day         249023 non-null  int64  \n",
      " 7   hour        249023 non-null  int64  \n",
      " 8   minute      249023 non-null  int64  \n",
      " 9   weather     249023 non-null  object \n",
      " 10  temp        249023 non-null  int64  \n",
      " 11  wind        249023 non-null  int64  \n",
      " 12  humidity    249006 non-null  object \n",
      " 13  barometer   248951 non-null  float64\n",
      " 14  visibility  249023 non-null  int64  \n",
      "dtypes: float64(1), int64(9), object(5)\n",
      "memory usage: 28.5+ MB\n"
     ]
    }
   ],
   "source": [
    "df.info()"
   ]
  },
  {
   "cell_type": "code",
   "execution_count": 17,
   "id": "a0218e5b",
   "metadata": {},
   "outputs": [
    {
     "data": {
      "text/html": [
       "<div>\n",
       "<style scoped>\n",
       "    .dataframe tbody tr th:only-of-type {\n",
       "        vertical-align: middle;\n",
       "    }\n",
       "\n",
       "    .dataframe tbody tr th {\n",
       "        vertical-align: top;\n",
       "    }\n",
       "\n",
       "    .dataframe thead th {\n",
       "        text-align: right;\n",
       "    }\n",
       "</style>\n",
       "<table border=\"1\" class=\"dataframe\">\n",
       "  <thead>\n",
       "    <tr style=\"text-align: right;\">\n",
       "      <th></th>\n",
       "      <th>Unnamed: 0</th>\n",
       "      <th>year</th>\n",
       "      <th>month</th>\n",
       "      <th>day</th>\n",
       "      <th>hour</th>\n",
       "      <th>minute</th>\n",
       "      <th>temp</th>\n",
       "      <th>wind</th>\n",
       "      <th>barometer</th>\n",
       "      <th>visibility</th>\n",
       "    </tr>\n",
       "  </thead>\n",
       "  <tbody>\n",
       "    <tr>\n",
       "      <th>count</th>\n",
       "      <td>249023.00</td>\n",
       "      <td>249023.00</td>\n",
       "      <td>249023.00</td>\n",
       "      <td>249023.00</td>\n",
       "      <td>249023.00</td>\n",
       "      <td>249023.00</td>\n",
       "      <td>249023.00</td>\n",
       "      <td>249023.00</td>\n",
       "      <td>248951.00</td>\n",
       "      <td>249023.00</td>\n",
       "    </tr>\n",
       "    <tr>\n",
       "      <th>mean</th>\n",
       "      <td>121690.69</td>\n",
       "      <td>2017.71</td>\n",
       "      <td>6.05</td>\n",
       "      <td>15.69</td>\n",
       "      <td>12.54</td>\n",
       "      <td>0.13</td>\n",
       "      <td>24.72</td>\n",
       "      <td>12.96</td>\n",
       "      <td>1015.46</td>\n",
       "      <td>11.05</td>\n",
       "    </tr>\n",
       "    <tr>\n",
       "      <th>std</th>\n",
       "      <td>71831.55</td>\n",
       "      <td>0.71</td>\n",
       "      <td>3.52</td>\n",
       "      <td>8.79</td>\n",
       "      <td>6.91</td>\n",
       "      <td>1.97</td>\n",
       "      <td>8.88</td>\n",
       "      <td>8.71</td>\n",
       "      <td>6.97</td>\n",
       "      <td>7.05</td>\n",
       "    </tr>\n",
       "    <tr>\n",
       "      <th>min</th>\n",
       "      <td>0.00</td>\n",
       "      <td>2017.00</td>\n",
       "      <td>1.00</td>\n",
       "      <td>1.00</td>\n",
       "      <td>1.00</td>\n",
       "      <td>0.00</td>\n",
       "      <td>-4.00</td>\n",
       "      <td>-1.00</td>\n",
       "      <td>904.00</td>\n",
       "      <td>-1.00</td>\n",
       "    </tr>\n",
       "    <tr>\n",
       "      <th>25%</th>\n",
       "      <td>59402.50</td>\n",
       "      <td>2017.00</td>\n",
       "      <td>3.00</td>\n",
       "      <td>8.00</td>\n",
       "      <td>7.00</td>\n",
       "      <td>0.00</td>\n",
       "      <td>18.00</td>\n",
       "      <td>7.00</td>\n",
       "      <td>1011.00</td>\n",
       "      <td>5.00</td>\n",
       "    </tr>\n",
       "    <tr>\n",
       "      <th>50%</th>\n",
       "      <td>121658.00</td>\n",
       "      <td>2018.00</td>\n",
       "      <td>6.00</td>\n",
       "      <td>16.00</td>\n",
       "      <td>13.00</td>\n",
       "      <td>0.00</td>\n",
       "      <td>24.00</td>\n",
       "      <td>11.00</td>\n",
       "      <td>1016.00</td>\n",
       "      <td>16.00</td>\n",
       "    </tr>\n",
       "    <tr>\n",
       "      <th>75%</th>\n",
       "      <td>183913.50</td>\n",
       "      <td>2018.00</td>\n",
       "      <td>9.00</td>\n",
       "      <td>23.00</td>\n",
       "      <td>19.00</td>\n",
       "      <td>0.00</td>\n",
       "      <td>31.00</td>\n",
       "      <td>19.00</td>\n",
       "      <td>1021.00</td>\n",
       "      <td>16.00</td>\n",
       "    </tr>\n",
       "    <tr>\n",
       "      <th>max</th>\n",
       "      <td>246169.00</td>\n",
       "      <td>2019.00</td>\n",
       "      <td>12.00</td>\n",
       "      <td>31.00</td>\n",
       "      <td>24.00</td>\n",
       "      <td>59.00</td>\n",
       "      <td>50.00</td>\n",
       "      <td>163.00</td>\n",
       "      <td>1101.00</td>\n",
       "      <td>161.00</td>\n",
       "    </tr>\n",
       "  </tbody>\n",
       "</table>\n",
       "</div>"
      ],
      "text/plain": [
       "       Unnamed: 0       year      month        day       hour     minute  \\\n",
       "count   249023.00  249023.00  249023.00  249023.00  249023.00  249023.00   \n",
       "mean    121690.69    2017.71       6.05      15.69      12.54       0.13   \n",
       "std      71831.55       0.71       3.52       8.79       6.91       1.97   \n",
       "min          0.00    2017.00       1.00       1.00       1.00       0.00   \n",
       "25%      59402.50    2017.00       3.00       8.00       7.00       0.00   \n",
       "50%     121658.00    2018.00       6.00      16.00      13.00       0.00   \n",
       "75%     183913.50    2018.00       9.00      23.00      19.00       0.00   \n",
       "max     246169.00    2019.00      12.00      31.00      24.00      59.00   \n",
       "\n",
       "            temp       wind  barometer  visibility  \n",
       "count  249023.00  249023.00  248951.00   249023.00  \n",
       "mean       24.72      12.96    1015.46       11.05  \n",
       "std         8.88       8.71       6.97        7.05  \n",
       "min        -4.00      -1.00     904.00       -1.00  \n",
       "25%        18.00       7.00    1011.00        5.00  \n",
       "50%        24.00      11.00    1016.00       16.00  \n",
       "75%        31.00      19.00    1021.00       16.00  \n",
       "max        50.00     163.00    1101.00      161.00  "
      ]
     },
     "execution_count": 17,
     "metadata": {},
     "output_type": "execute_result"
    }
   ],
   "source": [
    "df.describe().round(2)"
   ]
  },
  {
   "cell_type": "code",
   "execution_count": 18,
   "id": "2fc0cc7f",
   "metadata": {},
   "outputs": [
    {
     "data": {
      "text/html": [
       "<div>\n",
       "<style scoped>\n",
       "    .dataframe tbody tr th:only-of-type {\n",
       "        vertical-align: middle;\n",
       "    }\n",
       "\n",
       "    .dataframe tbody tr th {\n",
       "        vertical-align: top;\n",
       "    }\n",
       "\n",
       "    .dataframe thead th {\n",
       "        text-align: right;\n",
       "    }\n",
       "</style>\n",
       "<table border=\"1\" class=\"dataframe\">\n",
       "  <thead>\n",
       "    <tr style=\"text-align: right;\">\n",
       "      <th></th>\n",
       "      <th>temp</th>\n",
       "      <th>wind</th>\n",
       "    </tr>\n",
       "  </thead>\n",
       "  <tbody>\n",
       "    <tr>\n",
       "      <th>count</th>\n",
       "      <td>249023.00</td>\n",
       "      <td>249023.00</td>\n",
       "    </tr>\n",
       "    <tr>\n",
       "      <th>mean</th>\n",
       "      <td>24.72</td>\n",
       "      <td>12.96</td>\n",
       "    </tr>\n",
       "    <tr>\n",
       "      <th>std</th>\n",
       "      <td>8.88</td>\n",
       "      <td>8.71</td>\n",
       "    </tr>\n",
       "    <tr>\n",
       "      <th>min</th>\n",
       "      <td>-4.00</td>\n",
       "      <td>-1.00</td>\n",
       "    </tr>\n",
       "    <tr>\n",
       "      <th>25%</th>\n",
       "      <td>18.00</td>\n",
       "      <td>7.00</td>\n",
       "    </tr>\n",
       "    <tr>\n",
       "      <th>50%</th>\n",
       "      <td>24.00</td>\n",
       "      <td>11.00</td>\n",
       "    </tr>\n",
       "    <tr>\n",
       "      <th>75%</th>\n",
       "      <td>31.00</td>\n",
       "      <td>19.00</td>\n",
       "    </tr>\n",
       "    <tr>\n",
       "      <th>max</th>\n",
       "      <td>50.00</td>\n",
       "      <td>163.00</td>\n",
       "    </tr>\n",
       "  </tbody>\n",
       "</table>\n",
       "</div>"
      ],
      "text/plain": [
       "            temp       wind\n",
       "count  249023.00  249023.00\n",
       "mean       24.72      12.96\n",
       "std         8.88       8.71\n",
       "min        -4.00      -1.00\n",
       "25%        18.00       7.00\n",
       "50%        24.00      11.00\n",
       "75%        31.00      19.00\n",
       "max        50.00     163.00"
      ]
     },
     "execution_count": 18,
     "metadata": {},
     "output_type": "execute_result"
    }
   ],
   "source": [
    "df[['temp','wind']].describe().round(2)"
   ]
  },
  {
   "cell_type": "code",
   "execution_count": 19,
   "id": "9c7cdbb2",
   "metadata": {},
   "outputs": [],
   "source": [
    "df['date'] = pd.to_datetime(df['date'], format='%d %B %Y')"
   ]
  },
  {
   "cell_type": "code",
   "execution_count": 20,
   "id": "9f7cf1ac",
   "metadata": {},
   "outputs": [
    {
     "name": "stdout",
     "output_type": "stream",
     "text": [
      "<class 'pandas.core.frame.DataFrame'>\n",
      "RangeIndex: 249023 entries, 0 to 249022\n",
      "Data columns (total 15 columns):\n",
      " #   Column      Non-Null Count   Dtype         \n",
      "---  ------      --------------   -----         \n",
      " 0   Unnamed: 0  249023 non-null  int64         \n",
      " 1   city        249023 non-null  object        \n",
      " 2   date        249023 non-null  datetime64[ns]\n",
      " 3   time        249023 non-null  object        \n",
      " 4   year        249023 non-null  int64         \n",
      " 5   month       249023 non-null  int64         \n",
      " 6   day         249023 non-null  int64         \n",
      " 7   hour        249023 non-null  int64         \n",
      " 8   minute      249023 non-null  int64         \n",
      " 9   weather     249023 non-null  object        \n",
      " 10  temp        249023 non-null  int64         \n",
      " 11  wind        249023 non-null  int64         \n",
      " 12  humidity    249006 non-null  object        \n",
      " 13  barometer   248951 non-null  float64       \n",
      " 14  visibility  249023 non-null  int64         \n",
      "dtypes: datetime64[ns](1), float64(1), int64(9), object(4)\n",
      "memory usage: 28.5+ MB\n"
     ]
    }
   ],
   "source": [
    "df.info()"
   ]
  },
  {
   "cell_type": "code",
   "execution_count": 21,
   "id": "e277b6a8",
   "metadata": {},
   "outputs": [],
   "source": [
    "df['time'] = pd.to_datetime(df['time'])\n",
    "df['time'] = df['time'].dt.strftime('%H')"
   ]
  },
  {
   "cell_type": "code",
   "execution_count": 22,
   "id": "f1d74b14",
   "metadata": {},
   "outputs": [
    {
     "name": "stdout",
     "output_type": "stream",
     "text": [
      "<class 'pandas.core.frame.DataFrame'>\n",
      "RangeIndex: 249023 entries, 0 to 249022\n",
      "Data columns (total 15 columns):\n",
      " #   Column      Non-Null Count   Dtype         \n",
      "---  ------      --------------   -----         \n",
      " 0   Unnamed: 0  249023 non-null  int64         \n",
      " 1   city        249023 non-null  object        \n",
      " 2   date        249023 non-null  datetime64[ns]\n",
      " 3   time        249023 non-null  object        \n",
      " 4   year        249023 non-null  int64         \n",
      " 5   month       249023 non-null  int64         \n",
      " 6   day         249023 non-null  int64         \n",
      " 7   hour        249023 non-null  int64         \n",
      " 8   minute      249023 non-null  int64         \n",
      " 9   weather     249023 non-null  object        \n",
      " 10  temp        249023 non-null  int64         \n",
      " 11  wind        249023 non-null  int64         \n",
      " 12  humidity    249006 non-null  object        \n",
      " 13  barometer   248951 non-null  float64       \n",
      " 14  visibility  249023 non-null  int64         \n",
      "dtypes: datetime64[ns](1), float64(1), int64(9), object(4)\n",
      "memory usage: 28.5+ MB\n"
     ]
    }
   ],
   "source": [
    "df.info()"
   ]
  },
  {
   "cell_type": "code",
   "execution_count": 23,
   "id": "78de74ee",
   "metadata": {},
   "outputs": [
    {
     "data": {
      "text/plain": [
       "Jawf                20352\n",
       "Mecca               20268\n",
       "Tabuk               20240\n",
       "Northern boarder    20235\n",
       "Hail                20121\n",
       "Madina              19965\n",
       "Baha                19959\n",
       "Najran              19847\n",
       "Jazan               19829\n",
       "Qassim              19793\n",
       "EP                  18505\n",
       "Riyadh              16421\n",
       "Assir               13488\n",
       "Name: city, dtype: int64"
      ]
     },
     "execution_count": 23,
     "metadata": {},
     "output_type": "execute_result"
    }
   ],
   "source": [
    "df['city'].value_counts()"
   ]
  },
  {
   "cell_type": "code",
   "execution_count": 24,
   "id": "083c4cac",
   "metadata": {},
   "outputs": [
    {
     "data": {
      "text/plain": [
       "Clear                                          98827\n",
       "Sunny                                          82194\n",
       "Passing clouds                                 34380\n",
       "Scattered clouds                               15304\n",
       "Partly sunny                                    6925\n",
       "                                               ...  \n",
       "Heavy rain  More clouds than sun                   1\n",
       "Strong thunderstorms  More clouds than sun         1\n",
       "Hail  Cloudy                                       1\n",
       "Strong thunderstorms  Cloudy                       1\n",
       "Rain  Clear                                        1\n",
       "Name: weather, Length: 81, dtype: int64"
      ]
     },
     "execution_count": 24,
     "metadata": {},
     "output_type": "execute_result"
    }
   ],
   "source": [
    "df['weather'].value_counts()"
   ]
  },
  {
   "cell_type": "code",
   "execution_count": 25,
   "id": "d35aef00",
   "metadata": {},
   "outputs": [
    {
     "data": {
      "text/plain": [
       " 23    10432\n",
       " 22    10238\n",
       " 20    10013\n",
       " 24     9952\n",
       " 21     9939\n",
       " 25     9835\n",
       " 19     9628\n",
       " 26     9552\n",
       " 27     9420\n",
       " 18     9154\n",
       " 17     9072\n",
       " 28     8973\n",
       " 30     8750\n",
       " 29     8736\n",
       " 16     8439\n",
       " 32     8033\n",
       " 31     8016\n",
       " 15     7874\n",
       " 33     7189\n",
       " 14     6880\n",
       " 34     6461\n",
       " 13     5682\n",
       " 35     5598\n",
       " 36     5011\n",
       " 12     4523\n",
       " 37     4424\n",
       " 38     4087\n",
       " 11     3668\n",
       " 39     3611\n",
       " 40     3277\n",
       " 10     3066\n",
       " 41     2886\n",
       " 42     2651\n",
       " 9      2236\n",
       " 43     2146\n",
       " 8      1792\n",
       " 44     1728\n",
       " 7      1254\n",
       " 45     1222\n",
       " 6       977\n",
       " 5       731\n",
       " 46      603\n",
       " 4       465\n",
       " 3       250\n",
       " 47      190\n",
       " 2       156\n",
       " 1        67\n",
       "-1        38\n",
       " 0        35\n",
       " 48       33\n",
       " 49       13\n",
       "-2         7\n",
       "-3         7\n",
       " 50        2\n",
       "-4         1\n",
       "Name: temp, dtype: int64"
      ]
     },
     "execution_count": 25,
     "metadata": {},
     "output_type": "execute_result"
    }
   ],
   "source": [
    "df['temp'].value_counts()"
   ]
  },
  {
   "cell_type": "code",
   "execution_count": 26,
   "id": "57c95fee",
   "metadata": {},
   "outputs": [
    {
     "data": {
      "text/plain": [
       " 7      31173\n",
       " 0      26711\n",
       " 11     25646\n",
       " 9      22989\n",
       " 15     22684\n",
       " 19     20276\n",
       " 6      16513\n",
       " 13     15182\n",
       " 22     13394\n",
       " 17     10024\n",
       " 4       7849\n",
       " 26      7016\n",
       " 20      6943\n",
       " 24      5006\n",
       " 28      4199\n",
       " 30      4030\n",
       " 33      2788\n",
       " 37      1662\n",
       " 32      1638\n",
       " 35       849\n",
       " 41       642\n",
       " 2        402\n",
       " 39       329\n",
       " 44       277\n",
       " 43       224\n",
       " 46       154\n",
       "-1        109\n",
       " 48        92\n",
       " 50        63\n",
       " 52        51\n",
       " 56        44\n",
       " 54        24\n",
       " 57         8\n",
       " 65         6\n",
       " 61         6\n",
       " 67         5\n",
       " 59         5\n",
       " 63         2\n",
       " 93         2\n",
       " 70         2\n",
       " 115        1\n",
       " 163        1\n",
       " 76         1\n",
       " 80         1\n",
       "Name: wind, dtype: int64"
      ]
     },
     "execution_count": 26,
     "metadata": {},
     "output_type": "execute_result"
    }
   ],
   "source": [
    "df['wind'].value_counts()"
   ]
  },
  {
   "cell_type": "code",
   "execution_count": 27,
   "id": "81316e88",
   "metadata": {},
   "outputs": [],
   "source": [
    "df['wind'] = df['wind'].replace(-1, df['wind'].mean())"
   ]
  },
  {
   "cell_type": "code",
   "execution_count": 28,
   "id": "06d39a22",
   "metadata": {},
   "outputs": [],
   "source": [
    "df['wind'] = df['wind'].replace(163, 16)"
   ]
  },
  {
   "cell_type": "code",
   "execution_count": 29,
   "id": "c244eda3",
   "metadata": {},
   "outputs": [],
   "source": [
    "df['wind'] = df['wind'].replace(115, 11)"
   ]
  },
  {
   "cell_type": "code",
   "execution_count": 30,
   "id": "e3cd9868",
   "metadata": {},
   "outputs": [],
   "source": [
    "df['wind'] = df['wind'].astype(int)"
   ]
  },
  {
   "cell_type": "code",
   "execution_count": 31,
   "id": "4b5ad08d",
   "metadata": {},
   "outputs": [
    {
     "data": {
      "text/plain": [
       "7     31173\n",
       "0     26711\n",
       "11    25647\n",
       "9     22989\n",
       "15    22684\n",
       "19    20276\n",
       "6     16513\n",
       "13    15182\n",
       "22    13394\n",
       "17    10024\n",
       "4      7849\n",
       "26     7016\n",
       "20     6943\n",
       "24     5006\n",
       "28     4199\n",
       "30     4030\n",
       "33     2788\n",
       "37     1662\n",
       "32     1638\n",
       "35      849\n",
       "41      642\n",
       "2       402\n",
       "39      329\n",
       "44      277\n",
       "43      224\n",
       "46      154\n",
       "12      109\n",
       "48       92\n",
       "50       63\n",
       "52       51\n",
       "56       44\n",
       "54       24\n",
       "57        8\n",
       "65        6\n",
       "61        6\n",
       "59        5\n",
       "67        5\n",
       "93        2\n",
       "70        2\n",
       "63        2\n",
       "76        1\n",
       "16        1\n",
       "80        1\n",
       "Name: wind, dtype: int64"
      ]
     },
     "execution_count": 31,
     "metadata": {},
     "output_type": "execute_result"
    }
   ],
   "source": [
    "df['wind'].value_counts()"
   ]
  },
  {
   "cell_type": "code",
   "execution_count": 32,
   "id": "fbe7d8f9",
   "metadata": {},
   "outputs": [
    {
     "data": {
      "text/plain": [
       "13%    6903\n",
       "15%    5878\n",
       "11%    5858\n",
       "12%    5466\n",
       "14%    5370\n",
       "       ... \n",
       "89%     138\n",
       "93%      80\n",
       "80%      11\n",
       "0%        4\n",
       "90%       1\n",
       "Name: humidity, Length: 92, dtype: int64"
      ]
     },
     "execution_count": 32,
     "metadata": {},
     "output_type": "execute_result"
    }
   ],
   "source": [
    "df['humidity'].value_counts()"
   ]
  },
  {
   "cell_type": "code",
   "execution_count": 33,
   "id": "0946375e",
   "metadata": {},
   "outputs": [
    {
     "data": {
      "text/plain": [
       "1022.0    12779\n",
       "1016.0    12637\n",
       "1023.0    12612\n",
       "1015.0    12592\n",
       "1021.0    12511\n",
       "1014.0    12475\n",
       "1013.0    12298\n",
       "1024.0    12029\n",
       "1012.0    11585\n",
       "1017.0    11309\n",
       "1020.0    11170\n",
       "1018.0    11048\n",
       "1019.0    10973\n",
       "1011.0    10776\n",
       "1010.0     9664\n",
       "1025.0     9501\n",
       "1009.0     8786\n",
       "1008.0     7687\n",
       "1007.0     6989\n",
       "1026.0     6689\n",
       "1006.0     6136\n",
       "1005.0     4815\n",
       "1004.0     4087\n",
       "1003.0     3190\n",
       "1027.0     3052\n",
       "1002.0     2677\n",
       "1001.0     1770\n",
       "1028.0     1392\n",
       "1000.0     1085\n",
       "999.0       711\n",
       "997.0       678\n",
       "998.0       678\n",
       "996.0       610\n",
       "995.0       526\n",
       "1029.0      495\n",
       "994.0       425\n",
       "993.0       224\n",
       "1030.0      138\n",
       "992.0        71\n",
       "1031.0       44\n",
       "991.0        29\n",
       "990.0         2\n",
       "1032.0        2\n",
       "1101.0        2\n",
       "904.0         1\n",
       "1053.0        1\n",
       "Name: barometer, dtype: int64"
      ]
     },
     "execution_count": 33,
     "metadata": {},
     "output_type": "execute_result"
    }
   ],
   "source": [
    "df['barometer'].value_counts()"
   ]
  },
  {
   "cell_type": "code",
   "execution_count": 34,
   "id": "07528992",
   "metadata": {},
   "outputs": [
    {
     "data": {
      "text/plain": [
       " 16     160541\n",
       "-1       49644\n",
       " 8        9679\n",
       " 7        6621\n",
       " 6        4479\n",
       " 5        4358\n",
       " 9        3877\n",
       " 4        2877\n",
       " 3        2654\n",
       " 2        2420\n",
       " 1        1462\n",
       " 0         405\n",
       " 29          3\n",
       " 161         2\n",
       " 35          1\n",
       "Name: visibility, dtype: int64"
      ]
     },
     "execution_count": 34,
     "metadata": {},
     "output_type": "execute_result"
    }
   ],
   "source": [
    "df['visibility'].value_counts()"
   ]
  },
  {
   "cell_type": "code",
   "execution_count": 35,
   "id": "496bb997",
   "metadata": {},
   "outputs": [],
   "source": [
    "df['visibility'] = df['visibility'].replace(-1, df['visibility'].mean())"
   ]
  },
  {
   "cell_type": "code",
   "execution_count": 36,
   "id": "22455db1",
   "metadata": {},
   "outputs": [],
   "source": [
    "df['visibility'] = df['visibility'].astype(int)"
   ]
  },
  {
   "cell_type": "code",
   "execution_count": 37,
   "id": "79bdcfab",
   "metadata": {},
   "outputs": [],
   "source": [
    "df['visibility'] = df['visibility'].replace(161, 16)"
   ]
  },
  {
   "cell_type": "code",
   "execution_count": 38,
   "id": "afedd895",
   "metadata": {},
   "outputs": [
    {
     "data": {
      "text/plain": [
       "16    160543\n",
       "11     49644\n",
       "8       9679\n",
       "7       6621\n",
       "6       4479\n",
       "5       4358\n",
       "9       3877\n",
       "4       2877\n",
       "3       2654\n",
       "2       2420\n",
       "1       1462\n",
       "0        405\n",
       "29         3\n",
       "35         1\n",
       "Name: visibility, dtype: int64"
      ]
     },
     "execution_count": 38,
     "metadata": {},
     "output_type": "execute_result"
    }
   ],
   "source": [
    "df['visibility'].value_counts()"
   ]
  },
  {
   "cell_type": "markdown",
   "id": "24285dee",
   "metadata": {},
   "source": [
    "## visualization"
   ]
  },
  {
   "cell_type": "code",
   "execution_count": 40,
   "id": "5c5b934a",
   "metadata": {},
   "outputs": [
    {
     "name": "stderr",
     "output_type": "stream",
     "text": [
      "C:\\Users\\aof-16\\AppData\\Local\\Temp/ipykernel_12412/1359930318.py:10: UserWarning: FixedFormatter should only be used together with FixedLocator\n",
      "  ax.set_xticklabels(max_temps.index.levels[0], rotation=45, ha='right')\n"
     ]
    },
    {
     "data": {
      "image/png": "[encoded data removed]",
      "text/plain": [
       "<Figure size 720x288 with 1 Axes>"
      ]
     },
     "metadata": {
      "needs_background": "light"
     },
     "output_type": "display_data"
    }
   ],
   "source": [
    "max_temps = df.groupby(['city', 'year'])['temp'].max()\n",
    "min_temps = df.groupby(['city', 'year'])['temp'].min()\n",
    "\n",
    "fig, ax = plt.subplots(figsize=(10, 4))\n",
    "for city in max_temps.index.levels[0]:\n",
    "    ax.bar(city, max_temps[city], label=f'{city} max',color='red')\n",
    "    ax.bar(city, min_temps[city], label=f'{city} min',color='blue')\n",
    "    \n",
    "ax.set_yticks(list(range(-4, int(min_temps.min()), 5)) + list(range(0, int(max(min_temps.max(), max_temps.max())) + 5, 5)))\n",
    "ax.set_xticklabels(max_temps.index.levels[0], rotation=45, ha='right')\n",
    "\n",
    "ax.set_xlabel('City')\n",
    "ax.set_ylabel('Temperature')\n",
    "ax.grid(color='gray', linestyle='--', linewidth=0.3)\n",
    "plt.show()\n"
   ]
  },
  {
   "cell_type": "code",
   "execution_count": 29,
   "id": "4773b6a2",
   "metadata": {},
   "outputs": [
    {
     "data": {
      "image/png": "[encoded data removed]",
      "text/plain": [
       "<Figure size 1000x400 with 1 Axes>"
      ]
     },
     "metadata": {},
     "output_type": "display_data"
    }
   ],
   "source": [
    "max_temps = df.groupby(['city', 'year'])['temp'].mean()\n",
    "fig, ax = plt.subplots(figsize=(10,4))\n",
    "\n",
    "for city in max_temps.index.levels[0]:\n",
    "    ax.bar(city, max_temps[city], label=f'{city} max' ,color='blue')\n",
    "\n",
    "ax.set_yticks(range(0, int(max_temps.max()) + 5, 5))\n",
    "ax.set_xticks(range(len(max_temps.index.levels[0])))\n",
    "ax.set_xticklabels(max_temps.index.levels[0], rotation=45, ha='right')\n",
    "\n",
    "ax.set_xlabel('City')\n",
    "ax.set_ylabel('Temperature')\n",
    "plt.show()"
   ]
  },
  {
   "cell_type": "code",
   "execution_count": null,
   "id": "5f6f224c",
   "metadata": {},
   "outputs": [],
   "source": []
  }
 ],
 "metadata": {
  "kernelspec": {
   "display_name": "Python 3 (ipykernel)",
   "language": "python",
   "name": "python3"
  },
  "language_info": {
   "codemirror_mode": {
    "name": "ipython",
    "version": 3
   },
   "file_extension": ".py",
   "mimetype": "text/x-python",
   "name": "python",
   "nbconvert_exporter": "python",
   "pygments_lexer": "ipython3",
   "version": "3.9.7"
  }
 },
 "nbformat": 4,
 "nbformat_minor": 5
}
